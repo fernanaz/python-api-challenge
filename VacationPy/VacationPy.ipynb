{
 "cells": [
  {
   "cell_type": "markdown",
   "metadata": {},
   "source": [
    "# VacationPy\n",
    "----\n",
    "\n",
    "#### Note\n",
    "* Instructions have been included for each segment. You do not have to follow them exactly, but they are included to help you think through the steps."
   ]
  },
  {
   "cell_type": "code",
   "execution_count": null,
   "metadata": {},
   "outputs": [],
   "source": [
    "# Dependencies and Setup\n",
    "import matplotlib.pyplot as plt\n",
    "import pandas as pd\n",
    "import numpy as np\n",
    "import requests\n",
    "import gmaps\n",
    "import os\n",
    "\n",
    "# Import API key\n",
    "from api_keys import g_key"
   ]
  },
  {
   "cell_type": "markdown",
   "metadata": {},
   "source": [
    "### Store Part I results into DataFrame\r\n",
    "* Load the csv exported in Part I to a DataFrame\r\n"
   ]
  },
  {
   "cell_type": "code",
   "execution_count": null,
   "metadata": {},
   "outputs": [],
   "source": [
    "\r\n",
    "data_path=\"output_data/cities.csv\"\r\n",
    "cities=pd.read_csv(data_path)\r\n",
    "cities"
   ]
  },
  {
   "cell_type": "markdown",
   "metadata": {},
   "source": [
    "### Humidity Heatmap\n",
    "* Configure gmaps.\n",
    "* Use the Lat and Lng as locations and Humidity as the weight.\n",
    "* Add Heatmap layer to map."
   ]
  },
  {
   "cell_type": "code",
   "execution_count": null,
   "metadata": {},
   "outputs": [],
   "source": [
    "\r\n",
    "gmaps.configure(api_key=g_key)"
   ]
  },
  {
   "cell_type": "code",
   "execution_count": null,
   "metadata": {},
   "outputs": [],
   "source": [
    "gmaps.configure(api_key=g_key)\r\n",
    "\r\n",
    "\r\n",
    "locations = cities[[\"Latitude\", \"Longitude\"]]\r\n",
    "humidity = cities[\"Humidity (%)\"]\r\n",
    "fig = gmaps.figure(zoom_level=1.6, center= (20, 0))\r\n",
    "\r\n",
    "heat_layer = gmaps.heatmap_layer(locations, weights=humidity, \r\n",
    "                                 dissipating=False, max_intensity=100,\r\n",
    "                                 point_radius = 1,\r\n",
    "                                )\r\n",
    "\r\n",
    "fig.add_layer(heat_layer)\r\n",
    "fig"
   ]
  },
  {
   "cell_type": "markdown",
   "metadata": {},
   "source": [
    "### Create new DataFrame fitting weather criteria\n",
    "* Narrow down the cities to fit weather conditions.\n",
    "* Drop any rows will null values."
   ]
  },
  {
   "cell_type": "code",
   "execution_count": null,
   "metadata": {},
   "outputs": [],
   "source": [
    "ideal_city = cities.loc[(cities[\"Temperature\"]<80) & (cities[\"Temperature\"]>75) & (cities[\"Wind Speed (mph)\"]<10)& (cities[\"Cloudiness (%)\"]==0) & (cities[\"Wind Speed (mph)\"]<9)].dropna()\r\n",
    "ideal_city"
   ]
  },
  {
   "cell_type": "markdown",
   "metadata": {},
   "source": [
    "### Hotel Map\n",
    "* Store into variable named `hotel_df`.\n",
    "* Add a \"Hotel Name\" column to the DataFrame.\n",
    "* Set parameters to search for hotels with 5000 meters.\n",
    "* Hit the Google Places API for each city's coordinates.\n",
    "* Store the first Hotel result into the DataFrame.\n",
    "* Plot markers on top of the heatmap."
   ]
  },
  {
   "cell_type": "code",
   "execution_count": null,
   "metadata": {},
   "outputs": [],
   "source": [
    "#creating variable hotel_df\r\n",
    "hotel_df = ideal_city[['City','Country','Latitude','Longitude']].copy()\r\n"
   ]
  },
  {
   "cell_type": "code",
   "execution_count": null,
   "metadata": {},
   "outputs": [],
   "source": [
    "# geocoordinates\r\n",
    "target_radius = 5000\r\n",
    "target_type = \"lodging\"\r\n",
    "\r\n",
    "# set up a parameters dictionary\r\n",
    "params = {\r\n",
    "    \"radius\": target_radius,\r\n",
    "    \"type\": target_type,\r\n",
    "    \"key\": g_key\r\n",
    "}\r\n",
    "\r\n",
    "for index, row in hotel_df.iterrows():\r\n",
    "    lat = row['Lat']\r\n",
    "    lng =row['Lng']\r\n",
    "    params['location'] = f\"{lat},{lng}\"\r\n",
    "    # base url\r\n",
    "    base_url = \"https://maps.googleapis.com/maps/api/place/nearbysearch/json\"\r\n",
    "\r\n",
    "    # run a request using our params dictionary\r\n",
    "    response = requests.get(base_url, params=params).json()\r\n",
    "    \r\n",
    "    try:\r\n",
    "        hotel_df.loc[index, \"Hotel Name\"] = response['results'][0]['name']\r\n",
    "    except (KeyError, IndexError):\r\n",
    "        print(f\"no hotel in {index}\")\r\n",
    "print(hotel_df)\r\n",
    "hotel_df.to_csv(\"output_data/hotel_data\")"
   ]
  },
  {
   "cell_type": "code",
   "execution_count": null,
   "metadata": {},
   "outputs": [],
   "source": [
    "# NOTE: Do not change any of the code in this cell\n",
    "\n",
    "# Using the template add the hotel marks to the heatmap\n",
    "info_box_template = \"\"\"\n",
    "<dl>\n",
    "<dt>Name</dt><dd>{Hotel Name}</dd>\n",
    "<dt>City</dt><dd>{City}</dd>\n",
    "<dt>Country</dt><dd>{Country}</dd>\n",
    "</dl>\n",
    "\"\"\"\n",
    "# Store the DataFrame Row\n",
    "# NOTE: be sure to update with your DataFrame name\n",
    "hotel_info = [info_box_template.format(**row) for index, row in hotel_df.iterrows()]\n",
    "locations = hotel_df[[\"Lat\", \"Lng\"]]"
   ]
  },
  {
   "cell_type": "code",
   "execution_count": null,
   "metadata": {},
   "outputs": [],
   "source": [
    "# Add marker layer ontop of heat map\r\n",
    "markers = gmaps.marker_layer(locations)\r\n",
    "\r\n",
    "# Display figure\r\n",
    "fig.add_layer(markers)\r\n",
    "fig"
   ]
  },
  {
   "cell_type": "code",
   "execution_count": null,
   "metadata": {},
   "outputs": [],
   "source": []
  }
 ],
 "metadata": {
  "kernelspec": {
   "display_name": "PythonData",
   "language": "python",
   "name": "pythondata"
  },
  "language_info": {
   "codemirror_mode": {
    "name": "ipython",
    "version": 3
   },
   "file_extension": ".py",
   "mimetype": "text/x-python",
   "name": "python",
   "nbconvert_exporter": "python",
   "pygments_lexer": "ipython3",
   "version": "3.7.6"
  },
  "latex_envs": {
   "LaTeX_envs_menu_present": true,
   "autoclose": false,
   "autocomplete": true,
   "bibliofile": "biblio.bib",
   "cite_by": "apalike",
   "current_citInitial": 1,
   "eqLabelWithNumbers": true,
   "eqNumInitial": 1,
   "hotkeys": {
    "equation": "Ctrl-E",
    "itemize": "Ctrl-I"
   },
   "labels_anchors": false,
   "latex_user_defs": false,
   "report_style_numbering": false,
   "user_envs_cfg": false
  }
 },
 "nbformat": 4,
 "nbformat_minor": 2
}